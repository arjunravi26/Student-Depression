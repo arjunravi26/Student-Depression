{
  "cells": [
    {
      "cell_type": "code",
      "execution_count": 51,
      "metadata": {
        "colab": {
          "background_save": true
        },
        "id": "NOy4aRKwbxPV"
      },
      "outputs": [],
      "source": [
        "import pandas as pd\n",
        "from sklearn.preprocessing import LabelEncoder\n",
        "from sklearn.model_selection import train_test_split\n",
        "from sklearn.preprocessing import MinMaxScaler\n",
        "from sklearn.neighbors import KNeighborsClassifier\n",
        "from sklearn.naive_bayes import MultinomialNB\n",
        "from sklearn.svm import SVC\n",
        "from sklearn.tree import DecisionTreeClassifier\n",
        "from sklearn.ensemble import RandomForestClassifier\n",
        "from sklearn.ensemble import AdaBoostClassifier\n",
        "from sklearn.ensemble import GradientBoostingClassifier\n",
        "from xgboost import XGBClassifier\n",
        "from sklearn.metrics import classification_report,ConfusionMatrixDisplay\n",
        "from imblearn.over_sampling import SMOTE\n",
        "from sklearn.model_selection import GridSearchCV\n",
        "import seaborn as sns\n",
        "import matplotlib.pyplot as plt"
      ]
    },
    {
      "cell_type": "markdown",
      "metadata": {
        "id": "nEiXRWHG7LeW"
      },
      "source": [
        "**Read Dataset**"
      ]
    },
    {
      "cell_type": "code",
      "execution_count": 52,
      "metadata": {
        "colab": {
          "background_save": true
        },
        "id": "IHzrlVrO1kuI",
        "outputId": "251695d2-a41a-47b3-dbce-1e9c7a252d0f"
      },
      "outputs": [
        {
          "data": {
            "text/html": [
              "<div>\n",
              "<style scoped>\n",
              "    .dataframe tbody tr th:only-of-type {\n",
              "        vertical-align: middle;\n",
              "    }\n",
              "\n",
              "    .dataframe tbody tr th {\n",
              "        vertical-align: top;\n",
              "    }\n",
              "\n",
              "    .dataframe thead th {\n",
              "        text-align: right;\n",
              "    }\n",
              "</style>\n",
              "<table border=\"1\" class=\"dataframe\">\n",
              "  <thead>\n",
              "    <tr style=\"text-align: right;\">\n",
              "      <th></th>\n",
              "      <th>id</th>\n",
              "      <th>Gender</th>\n",
              "      <th>Age</th>\n",
              "      <th>City</th>\n",
              "      <th>Profession</th>\n",
              "      <th>Academic Pressure</th>\n",
              "      <th>Work Pressure</th>\n",
              "      <th>CGPA</th>\n",
              "      <th>Study Satisfaction</th>\n",
              "      <th>Job Satisfaction</th>\n",
              "      <th>Sleep Duration</th>\n",
              "      <th>Dietary Habits</th>\n",
              "      <th>Degree</th>\n",
              "      <th>Have you ever had suicidal thoughts ?</th>\n",
              "      <th>Work/Study Hours</th>\n",
              "      <th>Financial Stress</th>\n",
              "      <th>Family History of Mental Illness</th>\n",
              "      <th>Depression</th>\n",
              "    </tr>\n",
              "  </thead>\n",
              "  <tbody>\n",
              "    <tr>\n",
              "      <th>0</th>\n",
              "      <td>2</td>\n",
              "      <td>Male</td>\n",
              "      <td>33.0</td>\n",
              "      <td>Visakhapatnam</td>\n",
              "      <td>Student</td>\n",
              "      <td>5.0</td>\n",
              "      <td>0.0</td>\n",
              "      <td>8.97</td>\n",
              "      <td>2.0</td>\n",
              "      <td>0.0</td>\n",
              "      <td>5-6 hours</td>\n",
              "      <td>Healthy</td>\n",
              "      <td>B.Pharm</td>\n",
              "      <td>Yes</td>\n",
              "      <td>3.0</td>\n",
              "      <td>1.0</td>\n",
              "      <td>No</td>\n",
              "      <td>1</td>\n",
              "    </tr>\n",
              "    <tr>\n",
              "      <th>1</th>\n",
              "      <td>8</td>\n",
              "      <td>Female</td>\n",
              "      <td>24.0</td>\n",
              "      <td>Bangalore</td>\n",
              "      <td>Student</td>\n",
              "      <td>2.0</td>\n",
              "      <td>0.0</td>\n",
              "      <td>5.90</td>\n",
              "      <td>5.0</td>\n",
              "      <td>0.0</td>\n",
              "      <td>5-6 hours</td>\n",
              "      <td>Moderate</td>\n",
              "      <td>BSc</td>\n",
              "      <td>No</td>\n",
              "      <td>3.0</td>\n",
              "      <td>2.0</td>\n",
              "      <td>Yes</td>\n",
              "      <td>0</td>\n",
              "    </tr>\n",
              "    <tr>\n",
              "      <th>2</th>\n",
              "      <td>26</td>\n",
              "      <td>Male</td>\n",
              "      <td>31.0</td>\n",
              "      <td>Srinagar</td>\n",
              "      <td>Student</td>\n",
              "      <td>3.0</td>\n",
              "      <td>0.0</td>\n",
              "      <td>7.03</td>\n",
              "      <td>5.0</td>\n",
              "      <td>0.0</td>\n",
              "      <td>Less than 5 hours</td>\n",
              "      <td>Healthy</td>\n",
              "      <td>BA</td>\n",
              "      <td>No</td>\n",
              "      <td>9.0</td>\n",
              "      <td>1.0</td>\n",
              "      <td>Yes</td>\n",
              "      <td>0</td>\n",
              "    </tr>\n",
              "    <tr>\n",
              "      <th>3</th>\n",
              "      <td>30</td>\n",
              "      <td>Female</td>\n",
              "      <td>28.0</td>\n",
              "      <td>Varanasi</td>\n",
              "      <td>Student</td>\n",
              "      <td>3.0</td>\n",
              "      <td>0.0</td>\n",
              "      <td>5.59</td>\n",
              "      <td>2.0</td>\n",
              "      <td>0.0</td>\n",
              "      <td>7-8 hours</td>\n",
              "      <td>Moderate</td>\n",
              "      <td>BCA</td>\n",
              "      <td>Yes</td>\n",
              "      <td>4.0</td>\n",
              "      <td>5.0</td>\n",
              "      <td>Yes</td>\n",
              "      <td>1</td>\n",
              "    </tr>\n",
              "    <tr>\n",
              "      <th>4</th>\n",
              "      <td>32</td>\n",
              "      <td>Female</td>\n",
              "      <td>25.0</td>\n",
              "      <td>Jaipur</td>\n",
              "      <td>Student</td>\n",
              "      <td>4.0</td>\n",
              "      <td>0.0</td>\n",
              "      <td>8.13</td>\n",
              "      <td>3.0</td>\n",
              "      <td>0.0</td>\n",
              "      <td>5-6 hours</td>\n",
              "      <td>Moderate</td>\n",
              "      <td>M.Tech</td>\n",
              "      <td>Yes</td>\n",
              "      <td>1.0</td>\n",
              "      <td>1.0</td>\n",
              "      <td>No</td>\n",
              "      <td>0</td>\n",
              "    </tr>\n",
              "    <tr>\n",
              "      <th>...</th>\n",
              "      <td>...</td>\n",
              "      <td>...</td>\n",
              "      <td>...</td>\n",
              "      <td>...</td>\n",
              "      <td>...</td>\n",
              "      <td>...</td>\n",
              "      <td>...</td>\n",
              "      <td>...</td>\n",
              "      <td>...</td>\n",
              "      <td>...</td>\n",
              "      <td>...</td>\n",
              "      <td>...</td>\n",
              "      <td>...</td>\n",
              "      <td>...</td>\n",
              "      <td>...</td>\n",
              "      <td>...</td>\n",
              "      <td>...</td>\n",
              "      <td>...</td>\n",
              "    </tr>\n",
              "    <tr>\n",
              "      <th>27896</th>\n",
              "      <td>140685</td>\n",
              "      <td>Female</td>\n",
              "      <td>27.0</td>\n",
              "      <td>Surat</td>\n",
              "      <td>Student</td>\n",
              "      <td>5.0</td>\n",
              "      <td>0.0</td>\n",
              "      <td>5.75</td>\n",
              "      <td>5.0</td>\n",
              "      <td>0.0</td>\n",
              "      <td>5-6 hours</td>\n",
              "      <td>Unhealthy</td>\n",
              "      <td>Class 12</td>\n",
              "      <td>Yes</td>\n",
              "      <td>7.0</td>\n",
              "      <td>1.0</td>\n",
              "      <td>Yes</td>\n",
              "      <td>0</td>\n",
              "    </tr>\n",
              "    <tr>\n",
              "      <th>27897</th>\n",
              "      <td>140686</td>\n",
              "      <td>Male</td>\n",
              "      <td>27.0</td>\n",
              "      <td>Ludhiana</td>\n",
              "      <td>Student</td>\n",
              "      <td>2.0</td>\n",
              "      <td>0.0</td>\n",
              "      <td>9.40</td>\n",
              "      <td>3.0</td>\n",
              "      <td>0.0</td>\n",
              "      <td>Less than 5 hours</td>\n",
              "      <td>Healthy</td>\n",
              "      <td>MSc</td>\n",
              "      <td>No</td>\n",
              "      <td>0.0</td>\n",
              "      <td>3.0</td>\n",
              "      <td>Yes</td>\n",
              "      <td>0</td>\n",
              "    </tr>\n",
              "    <tr>\n",
              "      <th>27898</th>\n",
              "      <td>140689</td>\n",
              "      <td>Male</td>\n",
              "      <td>31.0</td>\n",
              "      <td>Faridabad</td>\n",
              "      <td>Student</td>\n",
              "      <td>3.0</td>\n",
              "      <td>0.0</td>\n",
              "      <td>6.61</td>\n",
              "      <td>4.0</td>\n",
              "      <td>0.0</td>\n",
              "      <td>5-6 hours</td>\n",
              "      <td>Unhealthy</td>\n",
              "      <td>MD</td>\n",
              "      <td>No</td>\n",
              "      <td>12.0</td>\n",
              "      <td>2.0</td>\n",
              "      <td>No</td>\n",
              "      <td>0</td>\n",
              "    </tr>\n",
              "    <tr>\n",
              "      <th>27899</th>\n",
              "      <td>140690</td>\n",
              "      <td>Female</td>\n",
              "      <td>18.0</td>\n",
              "      <td>Ludhiana</td>\n",
              "      <td>Student</td>\n",
              "      <td>5.0</td>\n",
              "      <td>0.0</td>\n",
              "      <td>6.88</td>\n",
              "      <td>2.0</td>\n",
              "      <td>0.0</td>\n",
              "      <td>Less than 5 hours</td>\n",
              "      <td>Healthy</td>\n",
              "      <td>Class 12</td>\n",
              "      <td>Yes</td>\n",
              "      <td>10.0</td>\n",
              "      <td>5.0</td>\n",
              "      <td>No</td>\n",
              "      <td>1</td>\n",
              "    </tr>\n",
              "    <tr>\n",
              "      <th>27900</th>\n",
              "      <td>140699</td>\n",
              "      <td>Male</td>\n",
              "      <td>27.0</td>\n",
              "      <td>Patna</td>\n",
              "      <td>Student</td>\n",
              "      <td>4.0</td>\n",
              "      <td>0.0</td>\n",
              "      <td>9.24</td>\n",
              "      <td>1.0</td>\n",
              "      <td>0.0</td>\n",
              "      <td>Less than 5 hours</td>\n",
              "      <td>Healthy</td>\n",
              "      <td>BCA</td>\n",
              "      <td>Yes</td>\n",
              "      <td>2.0</td>\n",
              "      <td>3.0</td>\n",
              "      <td>Yes</td>\n",
              "      <td>1</td>\n",
              "    </tr>\n",
              "  </tbody>\n",
              "</table>\n",
              "<p>27901 rows × 18 columns</p>\n",
              "</div>"
            ],
            "text/plain": [
              "           id  Gender   Age           City Profession  Academic Pressure  \\\n",
              "0           2    Male  33.0  Visakhapatnam    Student                5.0   \n",
              "1           8  Female  24.0      Bangalore    Student                2.0   \n",
              "2          26    Male  31.0       Srinagar    Student                3.0   \n",
              "3          30  Female  28.0       Varanasi    Student                3.0   \n",
              "4          32  Female  25.0         Jaipur    Student                4.0   \n",
              "...       ...     ...   ...            ...        ...                ...   \n",
              "27896  140685  Female  27.0          Surat    Student                5.0   \n",
              "27897  140686    Male  27.0       Ludhiana    Student                2.0   \n",
              "27898  140689    Male  31.0      Faridabad    Student                3.0   \n",
              "27899  140690  Female  18.0       Ludhiana    Student                5.0   \n",
              "27900  140699    Male  27.0          Patna    Student                4.0   \n",
              "\n",
              "       Work Pressure  CGPA  Study Satisfaction  Job Satisfaction  \\\n",
              "0                0.0  8.97                 2.0               0.0   \n",
              "1                0.0  5.90                 5.0               0.0   \n",
              "2                0.0  7.03                 5.0               0.0   \n",
              "3                0.0  5.59                 2.0               0.0   \n",
              "4                0.0  8.13                 3.0               0.0   \n",
              "...              ...   ...                 ...               ...   \n",
              "27896            0.0  5.75                 5.0               0.0   \n",
              "27897            0.0  9.40                 3.0               0.0   \n",
              "27898            0.0  6.61                 4.0               0.0   \n",
              "27899            0.0  6.88                 2.0               0.0   \n",
              "27900            0.0  9.24                 1.0               0.0   \n",
              "\n",
              "          Sleep Duration Dietary Habits    Degree  \\\n",
              "0              5-6 hours        Healthy   B.Pharm   \n",
              "1              5-6 hours       Moderate       BSc   \n",
              "2      Less than 5 hours        Healthy        BA   \n",
              "3              7-8 hours       Moderate       BCA   \n",
              "4              5-6 hours       Moderate    M.Tech   \n",
              "...                  ...            ...       ...   \n",
              "27896          5-6 hours      Unhealthy  Class 12   \n",
              "27897  Less than 5 hours        Healthy       MSc   \n",
              "27898          5-6 hours      Unhealthy        MD   \n",
              "27899  Less than 5 hours        Healthy  Class 12   \n",
              "27900  Less than 5 hours        Healthy       BCA   \n",
              "\n",
              "      Have you ever had suicidal thoughts ?  Work/Study Hours  \\\n",
              "0                                       Yes               3.0   \n",
              "1                                        No               3.0   \n",
              "2                                        No               9.0   \n",
              "3                                       Yes               4.0   \n",
              "4                                       Yes               1.0   \n",
              "...                                     ...               ...   \n",
              "27896                                   Yes               7.0   \n",
              "27897                                    No               0.0   \n",
              "27898                                    No              12.0   \n",
              "27899                                   Yes              10.0   \n",
              "27900                                   Yes               2.0   \n",
              "\n",
              "       Financial Stress Family History of Mental Illness  Depression  \n",
              "0                   1.0                               No           1  \n",
              "1                   2.0                              Yes           0  \n",
              "2                   1.0                              Yes           0  \n",
              "3                   5.0                              Yes           1  \n",
              "4                   1.0                               No           0  \n",
              "...                 ...                              ...         ...  \n",
              "27896               1.0                              Yes           0  \n",
              "27897               3.0                              Yes           0  \n",
              "27898               2.0                               No           0  \n",
              "27899               5.0                               No           1  \n",
              "27900               3.0                              Yes           1  \n",
              "\n",
              "[27901 rows x 18 columns]"
            ]
          },
          "execution_count": 52,
          "metadata": {},
          "output_type": "execute_result"
        }
      ],
      "source": [
        "df=pd.read_csv('Student Depression Dataset (1).csv')\n",
        "df"
      ]
    },
    {
      "cell_type": "code",
      "execution_count": 53,
      "metadata": {
        "colab": {
          "background_save": true
        },
        "id": "BAyIO2Wa190s",
        "outputId": "b74c5bf0-e6f0-450c-93a3-0a1e6f83cad7"
      },
      "outputs": [
        {
          "data": {
            "text/plain": [
              "array(['Visakhapatnam', 'Bangalore', 'Srinagar', 'Varanasi', 'Jaipur',\n",
              "       'Pune', 'Thane', 'Chennai', 'Nagpur', 'Nashik', 'Vadodara',\n",
              "       'Kalyan', 'Rajkot', 'Ahmedabad', 'Kolkata', 'Mumbai', 'Lucknow',\n",
              "       'Indore', 'Surat', 'Ludhiana', 'Bhopal', 'Meerut', 'Agra',\n",
              "       'Ghaziabad', 'Hyderabad', 'Vasai-Virar', 'Kanpur', 'Patna',\n",
              "       'Faridabad', 'Delhi', 'Saanvi', 'M.Tech', 'Bhavna', 'Less Delhi',\n",
              "       'City', '3.0', 'Less than 5 Kalyan', 'Mira', 'Harsha', 'Vaanya',\n",
              "       'Gaurav', 'Harsh', 'Reyansh', 'Kibara', 'Rashi', 'ME', 'M.Com',\n",
              "       'Nalyan', 'Mihir', 'Nalini', 'Nandini', 'Khaziabad'], dtype=object)"
            ]
          },
          "execution_count": 53,
          "metadata": {},
          "output_type": "execute_result"
        }
      ],
      "source": [
        "df['City'].unique()"
      ]
    },
    {
      "cell_type": "markdown",
      "metadata": {
        "id": "dehJkK6tmRIH"
      },
      "source": [
        "**Drop Id**"
      ]
    },
    {
      "cell_type": "code",
      "execution_count": 54,
      "metadata": {
        "colab": {
          "background_save": true
        },
        "id": "YutW-jMtmUq7"
      },
      "outputs": [],
      "source": [
        "df.drop(['id'],axis=1,inplace=True)"
      ]
    },
    {
      "cell_type": "markdown",
      "metadata": {
        "id": "R-sS4CqY7Rgl"
      },
      "source": [
        "**Check if there is any missing values**"
      ]
    },
    {
      "cell_type": "code",
      "execution_count": 55,
      "metadata": {
        "colab": {
          "background_save": true
        },
        "collapsed": true,
        "id": "OcAYAFI0_seT",
        "outputId": "72e5be5a-1241-4038-fb88-3b918af477b5"
      },
      "outputs": [
        {
          "data": {
            "text/plain": [
              "Gender                                   0\n",
              "Age                                      0\n",
              "City                                     0\n",
              "Profession                               0\n",
              "Academic Pressure                        0\n",
              "Work Pressure                            0\n",
              "CGPA                                     0\n",
              "Study Satisfaction                       0\n",
              "Job Satisfaction                         0\n",
              "Sleep Duration                           0\n",
              "Dietary Habits                           0\n",
              "Degree                                   0\n",
              "Have you ever had suicidal thoughts ?    0\n",
              "Work/Study Hours                         0\n",
              "Financial Stress                         3\n",
              "Family History of Mental Illness         0\n",
              "Depression                               0\n",
              "dtype: int64"
            ]
          },
          "execution_count": 55,
          "metadata": {},
          "output_type": "execute_result"
        }
      ],
      "source": [
        "df.isna().sum()"
      ]
    },
    {
      "cell_type": "markdown",
      "metadata": {
        "id": "e56f8k0C7eOr"
      },
      "source": [
        "**Fill the missing value**"
      ]
    },
    {
      "cell_type": "code",
      "execution_count": 56,
      "metadata": {
        "colab": {
          "background_save": true
        },
        "id": "fs8CAJVTCqh3"
      },
      "outputs": [],
      "source": [
        "df['Financial Stress']=df['Financial Stress'].fillna(df['Financial Stress'].mode()[0])"
      ]
    },
    {
      "cell_type": "markdown",
      "metadata": {
        "id": "DPoGTh5W7qC9"
      },
      "source": [
        "**Check the datatypes**"
      ]
    },
    {
      "cell_type": "code",
      "execution_count": 57,
      "metadata": {
        "colab": {
          "background_save": true
        },
        "collapsed": true,
        "id": "1LVQ-MxEASQO",
        "outputId": "4aa580ec-3848-4c05-ca61-6f835e341f23"
      },
      "outputs": [
        {
          "data": {
            "text/plain": [
              "Gender                                    object\n",
              "Age                                      float64\n",
              "City                                      object\n",
              "Profession                                object\n",
              "Academic Pressure                        float64\n",
              "Work Pressure                            float64\n",
              "CGPA                                     float64\n",
              "Study Satisfaction                       float64\n",
              "Job Satisfaction                         float64\n",
              "Sleep Duration                            object\n",
              "Dietary Habits                            object\n",
              "Degree                                    object\n",
              "Have you ever had suicidal thoughts ?     object\n",
              "Work/Study Hours                         float64\n",
              "Financial Stress                         float64\n",
              "Family History of Mental Illness          object\n",
              "Depression                                 int64\n",
              "dtype: object"
            ]
          },
          "execution_count": 57,
          "metadata": {},
          "output_type": "execute_result"
        }
      ],
      "source": [
        "df.dtypes"
      ]
    },
    {
      "cell_type": "markdown",
      "metadata": {
        "id": "W7_tYjYm7xZP"
      },
      "source": [
        "**If datatype is object,convert it to numeric datatype using LabelEncoder**"
      ]
    },
    {
      "cell_type": "code",
      "execution_count": 58,
      "metadata": {},
      "outputs": [],
      "source": [
        "import pickle\n",
        "import re"
      ]
    },
    {
      "cell_type": "code",
      "execution_count": 59,
      "metadata": {
        "colab": {
          "background_save": true
        },
        "collapsed": true,
        "id": "s27TQPAnCnAY",
        "outputId": "cc18ff56-76df-4a7b-a44c-e9178b8cac38"
      },
      "outputs": [
        {
          "name": "stdout",
          "output_type": "stream",
          "text": [
            "['Female' 'Male']\n",
            "['3.0' 'Agra' 'Ahmedabad' 'Bangalore' 'Bhavna' 'Bhopal' 'Chennai' 'City'\n",
            " 'Delhi' 'Faridabad' 'Gaurav' 'Ghaziabad' 'Harsh' 'Harsha' 'Hyderabad'\n",
            " 'Indore' 'Jaipur' 'Kalyan' 'Kanpur' 'Khaziabad' 'Kibara' 'Kolkata'\n",
            " 'Less Delhi' 'Less than 5 Kalyan' 'Lucknow' 'Ludhiana' 'M.Com' 'M.Tech'\n",
            " 'ME' 'Meerut' 'Mihir' 'Mira' 'Mumbai' 'Nagpur' 'Nalini' 'Nalyan'\n",
            " 'Nandini' 'Nashik' 'Patna' 'Pune' 'Rajkot' 'Rashi' 'Reyansh' 'Saanvi'\n",
            " 'Srinagar' 'Surat' 'Thane' 'Vaanya' 'Vadodara' 'Varanasi' 'Vasai-Virar'\n",
            " 'Visakhapatnam']\n",
            "['Architect' 'Chef' 'Civil Engineer' 'Content Writer' 'Digital Marketer'\n",
            " 'Doctor' 'Educational Consultant' 'Entrepreneur' 'Lawyer' 'Manager'\n",
            " 'Pharmacist' 'Student' 'Teacher' 'UX/UI Designer']\n",
            "['5-6 hours' '7-8 hours' 'Less than 5 hours' 'More than 8 hours' 'Others']\n",
            "['Healthy' 'Moderate' 'Others' 'Unhealthy']\n",
            "['B.Arch' 'B.Com' 'B.Ed' 'B.Pharm' 'B.Tech' 'BA' 'BBA' 'BCA' 'BE' 'BHM'\n",
            " 'BSc' 'Class 12' 'LLB' 'LLM' 'M.Com' 'M.Ed' 'M.Pharm' 'M.Tech' 'MA' 'MBA'\n",
            " 'MBBS' 'MCA' 'MD' 'ME' 'MHM' 'MSc' 'Others' 'PhD']\n",
            "['No' 'Yes']\n",
            "['No' 'Yes']\n"
          ]
        }
      ],
      "source": [
        "encoder=LabelEncoder()\n",
        "cols=['Gender','City','Profession','Sleep Duration','Dietary Habits','Degree','Have you ever had suicidal thoughts ?','Family History of Mental Illness']\n",
        "for col in cols:\n",
        "  encoder.fit(df[col])\n",
        "  filtered_text = re.sub(r'[^a-zA-Z0-9 ]', '', col)\n",
        "  pickle.dump(encoder,open(f'artifacts/{filtered_text}.sav','wb'))\n",
        "  print(encoder.classes_)\n",
        "  df[col]=encoder.transform(df[col])\n"
      ]
    },
    {
      "cell_type": "code",
      "execution_count": null,
      "metadata": {},
      "outputs": [],
      "source": []
    },
    {
      "cell_type": "markdown",
      "metadata": {
        "id": "wri6Dl258DJc"
      },
      "source": [
        "**Split features**"
      ]
    },
    {
      "cell_type": "code",
      "execution_count": 60,
      "metadata": {
        "colab": {
          "background_save": true
        },
        "collapsed": true,
        "id": "UsiQRC-j2-u3",
        "outputId": "02359998-7c1e-41ab-fe26-703fd6fad9d7"
      },
      "outputs": [
        {
          "data": {
            "text/html": [
              "<div>\n",
              "<style scoped>\n",
              "    .dataframe tbody tr th:only-of-type {\n",
              "        vertical-align: middle;\n",
              "    }\n",
              "\n",
              "    .dataframe tbody tr th {\n",
              "        vertical-align: top;\n",
              "    }\n",
              "\n",
              "    .dataframe thead th {\n",
              "        text-align: right;\n",
              "    }\n",
              "</style>\n",
              "<table border=\"1\" class=\"dataframe\">\n",
              "  <thead>\n",
              "    <tr style=\"text-align: right;\">\n",
              "      <th></th>\n",
              "      <th>Gender</th>\n",
              "      <th>Age</th>\n",
              "      <th>City</th>\n",
              "      <th>Profession</th>\n",
              "      <th>Academic Pressure</th>\n",
              "      <th>Work Pressure</th>\n",
              "      <th>CGPA</th>\n",
              "      <th>Study Satisfaction</th>\n",
              "      <th>Job Satisfaction</th>\n",
              "      <th>Sleep Duration</th>\n",
              "      <th>Dietary Habits</th>\n",
              "      <th>Degree</th>\n",
              "      <th>Have you ever had suicidal thoughts ?</th>\n",
              "      <th>Work/Study Hours</th>\n",
              "      <th>Financial Stress</th>\n",
              "      <th>Family History of Mental Illness</th>\n",
              "    </tr>\n",
              "  </thead>\n",
              "  <tbody>\n",
              "    <tr>\n",
              "      <th>0</th>\n",
              "      <td>1</td>\n",
              "      <td>33.0</td>\n",
              "      <td>51</td>\n",
              "      <td>11</td>\n",
              "      <td>5.0</td>\n",
              "      <td>0.0</td>\n",
              "      <td>8.97</td>\n",
              "      <td>2.0</td>\n",
              "      <td>0.0</td>\n",
              "      <td>0</td>\n",
              "      <td>0</td>\n",
              "      <td>3</td>\n",
              "      <td>1</td>\n",
              "      <td>3.0</td>\n",
              "      <td>1.0</td>\n",
              "      <td>0</td>\n",
              "    </tr>\n",
              "    <tr>\n",
              "      <th>1</th>\n",
              "      <td>0</td>\n",
              "      <td>24.0</td>\n",
              "      <td>3</td>\n",
              "      <td>11</td>\n",
              "      <td>2.0</td>\n",
              "      <td>0.0</td>\n",
              "      <td>5.90</td>\n",
              "      <td>5.0</td>\n",
              "      <td>0.0</td>\n",
              "      <td>0</td>\n",
              "      <td>1</td>\n",
              "      <td>10</td>\n",
              "      <td>0</td>\n",
              "      <td>3.0</td>\n",
              "      <td>2.0</td>\n",
              "      <td>1</td>\n",
              "    </tr>\n",
              "    <tr>\n",
              "      <th>2</th>\n",
              "      <td>1</td>\n",
              "      <td>31.0</td>\n",
              "      <td>44</td>\n",
              "      <td>11</td>\n",
              "      <td>3.0</td>\n",
              "      <td>0.0</td>\n",
              "      <td>7.03</td>\n",
              "      <td>5.0</td>\n",
              "      <td>0.0</td>\n",
              "      <td>2</td>\n",
              "      <td>0</td>\n",
              "      <td>5</td>\n",
              "      <td>0</td>\n",
              "      <td>9.0</td>\n",
              "      <td>1.0</td>\n",
              "      <td>1</td>\n",
              "    </tr>\n",
              "    <tr>\n",
              "      <th>3</th>\n",
              "      <td>0</td>\n",
              "      <td>28.0</td>\n",
              "      <td>49</td>\n",
              "      <td>11</td>\n",
              "      <td>3.0</td>\n",
              "      <td>0.0</td>\n",
              "      <td>5.59</td>\n",
              "      <td>2.0</td>\n",
              "      <td>0.0</td>\n",
              "      <td>1</td>\n",
              "      <td>1</td>\n",
              "      <td>7</td>\n",
              "      <td>1</td>\n",
              "      <td>4.0</td>\n",
              "      <td>5.0</td>\n",
              "      <td>1</td>\n",
              "    </tr>\n",
              "    <tr>\n",
              "      <th>4</th>\n",
              "      <td>0</td>\n",
              "      <td>25.0</td>\n",
              "      <td>16</td>\n",
              "      <td>11</td>\n",
              "      <td>4.0</td>\n",
              "      <td>0.0</td>\n",
              "      <td>8.13</td>\n",
              "      <td>3.0</td>\n",
              "      <td>0.0</td>\n",
              "      <td>0</td>\n",
              "      <td>1</td>\n",
              "      <td>17</td>\n",
              "      <td>1</td>\n",
              "      <td>1.0</td>\n",
              "      <td>1.0</td>\n",
              "      <td>0</td>\n",
              "    </tr>\n",
              "    <tr>\n",
              "      <th>...</th>\n",
              "      <td>...</td>\n",
              "      <td>...</td>\n",
              "      <td>...</td>\n",
              "      <td>...</td>\n",
              "      <td>...</td>\n",
              "      <td>...</td>\n",
              "      <td>...</td>\n",
              "      <td>...</td>\n",
              "      <td>...</td>\n",
              "      <td>...</td>\n",
              "      <td>...</td>\n",
              "      <td>...</td>\n",
              "      <td>...</td>\n",
              "      <td>...</td>\n",
              "      <td>...</td>\n",
              "      <td>...</td>\n",
              "    </tr>\n",
              "    <tr>\n",
              "      <th>27896</th>\n",
              "      <td>0</td>\n",
              "      <td>27.0</td>\n",
              "      <td>45</td>\n",
              "      <td>11</td>\n",
              "      <td>5.0</td>\n",
              "      <td>0.0</td>\n",
              "      <td>5.75</td>\n",
              "      <td>5.0</td>\n",
              "      <td>0.0</td>\n",
              "      <td>0</td>\n",
              "      <td>3</td>\n",
              "      <td>11</td>\n",
              "      <td>1</td>\n",
              "      <td>7.0</td>\n",
              "      <td>1.0</td>\n",
              "      <td>1</td>\n",
              "    </tr>\n",
              "    <tr>\n",
              "      <th>27897</th>\n",
              "      <td>1</td>\n",
              "      <td>27.0</td>\n",
              "      <td>25</td>\n",
              "      <td>11</td>\n",
              "      <td>2.0</td>\n",
              "      <td>0.0</td>\n",
              "      <td>9.40</td>\n",
              "      <td>3.0</td>\n",
              "      <td>0.0</td>\n",
              "      <td>2</td>\n",
              "      <td>0</td>\n",
              "      <td>25</td>\n",
              "      <td>0</td>\n",
              "      <td>0.0</td>\n",
              "      <td>3.0</td>\n",
              "      <td>1</td>\n",
              "    </tr>\n",
              "    <tr>\n",
              "      <th>27898</th>\n",
              "      <td>1</td>\n",
              "      <td>31.0</td>\n",
              "      <td>9</td>\n",
              "      <td>11</td>\n",
              "      <td>3.0</td>\n",
              "      <td>0.0</td>\n",
              "      <td>6.61</td>\n",
              "      <td>4.0</td>\n",
              "      <td>0.0</td>\n",
              "      <td>0</td>\n",
              "      <td>3</td>\n",
              "      <td>22</td>\n",
              "      <td>0</td>\n",
              "      <td>12.0</td>\n",
              "      <td>2.0</td>\n",
              "      <td>0</td>\n",
              "    </tr>\n",
              "    <tr>\n",
              "      <th>27899</th>\n",
              "      <td>0</td>\n",
              "      <td>18.0</td>\n",
              "      <td>25</td>\n",
              "      <td>11</td>\n",
              "      <td>5.0</td>\n",
              "      <td>0.0</td>\n",
              "      <td>6.88</td>\n",
              "      <td>2.0</td>\n",
              "      <td>0.0</td>\n",
              "      <td>2</td>\n",
              "      <td>0</td>\n",
              "      <td>11</td>\n",
              "      <td>1</td>\n",
              "      <td>10.0</td>\n",
              "      <td>5.0</td>\n",
              "      <td>0</td>\n",
              "    </tr>\n",
              "    <tr>\n",
              "      <th>27900</th>\n",
              "      <td>1</td>\n",
              "      <td>27.0</td>\n",
              "      <td>38</td>\n",
              "      <td>11</td>\n",
              "      <td>4.0</td>\n",
              "      <td>0.0</td>\n",
              "      <td>9.24</td>\n",
              "      <td>1.0</td>\n",
              "      <td>0.0</td>\n",
              "      <td>2</td>\n",
              "      <td>0</td>\n",
              "      <td>7</td>\n",
              "      <td>1</td>\n",
              "      <td>2.0</td>\n",
              "      <td>3.0</td>\n",
              "      <td>1</td>\n",
              "    </tr>\n",
              "  </tbody>\n",
              "</table>\n",
              "<p>27901 rows × 16 columns</p>\n",
              "</div>"
            ],
            "text/plain": [
              "       Gender   Age  City  Profession  Academic Pressure  Work Pressure  CGPA  \\\n",
              "0           1  33.0    51          11                5.0            0.0  8.97   \n",
              "1           0  24.0     3          11                2.0            0.0  5.90   \n",
              "2           1  31.0    44          11                3.0            0.0  7.03   \n",
              "3           0  28.0    49          11                3.0            0.0  5.59   \n",
              "4           0  25.0    16          11                4.0            0.0  8.13   \n",
              "...       ...   ...   ...         ...                ...            ...   ...   \n",
              "27896       0  27.0    45          11                5.0            0.0  5.75   \n",
              "27897       1  27.0    25          11                2.0            0.0  9.40   \n",
              "27898       1  31.0     9          11                3.0            0.0  6.61   \n",
              "27899       0  18.0    25          11                5.0            0.0  6.88   \n",
              "27900       1  27.0    38          11                4.0            0.0  9.24   \n",
              "\n",
              "       Study Satisfaction  Job Satisfaction  Sleep Duration  Dietary Habits  \\\n",
              "0                     2.0               0.0               0               0   \n",
              "1                     5.0               0.0               0               1   \n",
              "2                     5.0               0.0               2               0   \n",
              "3                     2.0               0.0               1               1   \n",
              "4                     3.0               0.0               0               1   \n",
              "...                   ...               ...             ...             ...   \n",
              "27896                 5.0               0.0               0               3   \n",
              "27897                 3.0               0.0               2               0   \n",
              "27898                 4.0               0.0               0               3   \n",
              "27899                 2.0               0.0               2               0   \n",
              "27900                 1.0               0.0               2               0   \n",
              "\n",
              "       Degree  Have you ever had suicidal thoughts ?  Work/Study Hours  \\\n",
              "0           3                                      1               3.0   \n",
              "1          10                                      0               3.0   \n",
              "2           5                                      0               9.0   \n",
              "3           7                                      1               4.0   \n",
              "4          17                                      1               1.0   \n",
              "...       ...                                    ...               ...   \n",
              "27896      11                                      1               7.0   \n",
              "27897      25                                      0               0.0   \n",
              "27898      22                                      0              12.0   \n",
              "27899      11                                      1              10.0   \n",
              "27900       7                                      1               2.0   \n",
              "\n",
              "       Financial Stress  Family History of Mental Illness  \n",
              "0                   1.0                                 0  \n",
              "1                   2.0                                 1  \n",
              "2                   1.0                                 1  \n",
              "3                   5.0                                 1  \n",
              "4                   1.0                                 0  \n",
              "...                 ...                               ...  \n",
              "27896               1.0                                 1  \n",
              "27897               3.0                                 1  \n",
              "27898               2.0                                 0  \n",
              "27899               5.0                                 0  \n",
              "27900               3.0                                 1  \n",
              "\n",
              "[27901 rows x 16 columns]"
            ]
          },
          "execution_count": 60,
          "metadata": {},
          "output_type": "execute_result"
        }
      ],
      "source": [
        "X=df.iloc[:,:-1]\n",
        "X"
      ]
    },
    {
      "cell_type": "markdown",
      "metadata": {
        "id": "c1rX3r1n8JD4"
      },
      "source": [
        "**Split Target**"
      ]
    },
    {
      "cell_type": "code",
      "execution_count": 61,
      "metadata": {
        "colab": {
          "background_save": true
        },
        "collapsed": true,
        "id": "FbB_kjNh3IK0",
        "outputId": "3ee3a3fd-cb92-413f-b950-a3bdc966ab97"
      },
      "outputs": [
        {
          "data": {
            "text/plain": [
              "0        1\n",
              "1        0\n",
              "2        0\n",
              "3        1\n",
              "4        0\n",
              "        ..\n",
              "27896    0\n",
              "27897    0\n",
              "27898    0\n",
              "27899    1\n",
              "27900    1\n",
              "Name: Depression, Length: 27901, dtype: int64"
            ]
          },
          "execution_count": 61,
          "metadata": {},
          "output_type": "execute_result"
        }
      ],
      "source": [
        "y=df.iloc[:,-1]\n",
        "y"
      ]
    },
    {
      "cell_type": "markdown",
      "metadata": {
        "id": "gqt8flW5VqHW"
      },
      "source": [
        "**Data visualization**"
      ]
    },
    {
      "cell_type": "code",
      "execution_count": 62,
      "metadata": {
        "colab": {
          "background_save": true
        },
        "id": "e7_Mn5RtVodW",
        "outputId": "799807f7-3d4f-4e72-9f84-e93613b9ca2a"
      },
      "outputs": [
        {
          "data": {
            "image/png": "[encoded data removed]",
            "text/plain": [
              "<Figure size 640x480 with 1 Axes>"
            ]
          },
          "metadata": {},
          "output_type": "display_data"
        }
      ],
      "source": [
        "sns.barplot(x='Study Satisfaction',y='Work/Study Hours',data=df)\n",
        "plt.title(\"Study satisfaction vs Study hours\")\n",
        "plt.xlabel(\"satisfaction\")\n",
        "plt.ylabel(\"Hours\")\n",
        "plt.show()"
      ]
    },
    {
      "cell_type": "code",
      "execution_count": 63,
      "metadata": {
        "colab": {
          "background_save": true
        },
        "id": "4yd2vpNHVu8p",
        "outputId": "7c6805dc-f96c-40b8-c05d-9047e8df56f1"
      },
      "outputs": [
        {
          "data": {
            "image/png": "[encoded data removed]",
            "text/plain": [
              "<Figure size 640x480 with 1 Axes>"
            ]
          },
          "metadata": {},
          "output_type": "display_data"
        }
      ],
      "source": [
        "sns.boxplot(x='Study Satisfaction',y='Work/Study Hours',data=df)\n",
        "plt.title(\"Study satisfaction vs Study hours\")\n",
        "plt.xlabel(\"satisfaction\")\n",
        "plt.ylabel(\"Hours\")\n",
        "plt.show()"
      ]
    },
    {
      "cell_type": "markdown",
      "metadata": {
        "id": "OQokl0sY8WTx"
      },
      "source": [
        "**Scale using MinMaxScaler**"
      ]
    },
    {
      "cell_type": "code",
      "execution_count": 64,
      "metadata": {
        "colab": {
          "background_save": true
        },
        "collapsed": true,
        "id": "LcBSWWAb3fxN",
        "outputId": "98639e6b-de2b-4b5c-cc74-b7ce80df6513"
      },
      "outputs": [
        {
          "data": {
            "text/plain": [
              "array([[1.        , 0.36585366, 1.        , ..., 0.25      , 0.        ,\n",
              "        0.        ],\n",
              "       [0.        , 0.14634146, 0.05882353, ..., 0.25      , 0.25      ,\n",
              "        1.        ],\n",
              "       [1.        , 0.31707317, 0.8627451 , ..., 0.75      , 0.        ,\n",
              "        1.        ],\n",
              "       ...,\n",
              "       [1.        , 0.31707317, 0.17647059, ..., 1.        , 0.25      ,\n",
              "        0.        ],\n",
              "       [0.        , 0.        , 0.49019608, ..., 0.83333333, 1.        ,\n",
              "        0.        ],\n",
              "       [1.        , 0.2195122 , 0.74509804, ..., 0.16666667, 0.5       ,\n",
              "        1.        ]])"
            ]
          },
          "execution_count": 64,
          "metadata": {},
          "output_type": "execute_result"
        }
      ],
      "source": [
        "scaler=MinMaxScaler()\n",
        "X_scaled=scaler.fit_transform(X)\n",
        "X_scaled"
      ]
    },
    {
      "cell_type": "markdown",
      "metadata": {
        "id": "99pMtOjl8fMS"
      },
      "source": [
        "**Split X and y for testing and training**"
      ]
    },
    {
      "cell_type": "code",
      "execution_count": 65,
      "metadata": {
        "colab": {
          "background_save": true
        },
        "id": "KxKCHeKA3MV6"
      },
      "outputs": [],
      "source": [
        "X_train,X_test,y_train,y_test=train_test_split(X_scaled,y,test_size=0.3,random_state=1)"
      ]
    },
    {
      "cell_type": "code",
      "execution_count": 66,
      "metadata": {
        "colab": {
          "background_save": true
        },
        "collapsed": true,
        "id": "HsLAf8Ql4Lrm",
        "outputId": "938dc4f0-48f2-49f3-dd64-f6d33a9a28bf"
      },
      "outputs": [
        {
          "data": {
            "text/plain": [
              "((19530, 16), (19530,))"
            ]
          },
          "execution_count": 66,
          "metadata": {},
          "output_type": "execute_result"
        }
      ],
      "source": [
        "X_train.shape,y_train.shape"
      ]
    },
    {
      "cell_type": "code",
      "execution_count": 67,
      "metadata": {
        "colab": {
          "background_save": true
        },
        "collapsed": true,
        "id": "l-W4Yu7s4QMs",
        "outputId": "2bc9c427-de0e-4e03-cf4c-25ecded744c3"
      },
      "outputs": [
        {
          "data": {
            "text/plain": [
              "((8371, 16), (8371,))"
            ]
          },
          "execution_count": 67,
          "metadata": {},
          "output_type": "execute_result"
        }
      ],
      "source": [
        "X_test.shape,y_test.shape"
      ]
    },
    {
      "cell_type": "markdown",
      "metadata": {
        "id": "Xu8yvcMD81-U"
      },
      "source": [
        "**Model Creation and prediction using X_test**"
      ]
    },
    {
      "cell_type": "code",
      "execution_count": 68,
      "metadata": {
        "colab": {
          "background_save": true
        },
        "id": "iMCq-QMU4VY-",
        "outputId": "bc02f9ad-54b4-4e11-eac5-b72abac34484"
      },
      "outputs": [
        {
          "name": "stdout",
          "output_type": "stream",
          "text": [
            "******** KNeighborsClassifier(n_neighbors=9) *********\n",
            "              precision    recall  f1-score   support\n",
            "\n",
            "           0       0.82      0.74      0.78      3443\n",
            "           1       0.83      0.88      0.86      4928\n",
            "\n",
            "    accuracy                           0.83      8371\n",
            "   macro avg       0.82      0.81      0.82      8371\n",
            "weighted avg       0.83      0.83      0.82      8371\n",
            "\n",
            "<sklearn.metrics._plot.confusion_matrix.ConfusionMatrixDisplay object at 0x00000263089F18D0>\n",
            "******** SVC(kernel='poly') *********\n",
            "              precision    recall  f1-score   support\n",
            "\n",
            "           0       0.84      0.78      0.81      3443\n",
            "           1       0.85      0.90      0.88      4928\n",
            "\n",
            "    accuracy                           0.85      8371\n",
            "   macro avg       0.85      0.84      0.84      8371\n",
            "weighted avg       0.85      0.85      0.85      8371\n",
            "\n",
            "<sklearn.metrics._plot.confusion_matrix.ConfusionMatrixDisplay object at 0x0000026308F01F10>\n",
            "******** RandomForestClassifier() *********\n",
            "              precision    recall  f1-score   support\n",
            "\n",
            "           0       0.83      0.79      0.81      3443\n",
            "           1       0.86      0.88      0.87      4928\n",
            "\n",
            "    accuracy                           0.85      8371\n",
            "   macro avg       0.84      0.84      0.84      8371\n",
            "weighted avg       0.85      0.85      0.85      8371\n",
            "\n",
            "<sklearn.metrics._plot.confusion_matrix.ConfusionMatrixDisplay object at 0x00000263094E3F10>\n",
            "******** MultinomialNB() *********\n",
            "              precision    recall  f1-score   support\n",
            "\n",
            "           0       0.88      0.56      0.69      3443\n",
            "           1       0.76      0.95      0.84      4928\n",
            "\n",
            "    accuracy                           0.79      8371\n",
            "   macro avg       0.82      0.75      0.76      8371\n",
            "weighted avg       0.81      0.79      0.78      8371\n",
            "\n",
            "<sklearn.metrics._plot.confusion_matrix.ConfusionMatrixDisplay object at 0x00000263095176D0>\n",
            "******** DecisionTreeClassifier() *********\n",
            "              precision    recall  f1-score   support\n",
            "\n",
            "           0       0.72      0.73      0.73      3443\n",
            "           1       0.81      0.80      0.81      4928\n",
            "\n",
            "    accuracy                           0.77      8371\n",
            "   macro avg       0.77      0.77      0.77      8371\n",
            "weighted avg       0.77      0.77      0.77      8371\n",
            "\n",
            "<sklearn.metrics._plot.confusion_matrix.ConfusionMatrixDisplay object at 0x0000026309C8C1D0>\n",
            "******** AdaBoostClassifier() *********\n",
            "              precision    recall  f1-score   support\n",
            "\n",
            "           0       0.84      0.79      0.82      3443\n",
            "           1       0.86      0.89      0.88      4928\n",
            "\n",
            "    accuracy                           0.85      8371\n",
            "   macro avg       0.85      0.84      0.85      8371\n",
            "weighted avg       0.85      0.85      0.85      8371\n",
            "\n",
            "<sklearn.metrics._plot.confusion_matrix.ConfusionMatrixDisplay object at 0x0000026309D98F10>\n",
            "******** GradientBoostingClassifier() *********\n",
            "              precision    recall  f1-score   support\n",
            "\n",
            "           0       0.84      0.79      0.81      3443\n",
            "           1       0.86      0.89      0.88      4928\n",
            "\n",
            "    accuracy                           0.85      8371\n",
            "   macro avg       0.85      0.84      0.85      8371\n",
            "weighted avg       0.85      0.85      0.85      8371\n",
            "\n",
            "<sklearn.metrics._plot.confusion_matrix.ConfusionMatrixDisplay object at 0x0000026309E55C10>\n",
            "******** XGBClassifier(base_score=None, booster=None, callbacks=None,\n",
            "              colsample_bylevel=None, colsample_bynode=None,\n",
            "              colsample_bytree=None, device=None, early_stopping_rounds=None,\n",
            "              enable_categorical=False, eval_metric=None, feature_types=None,\n",
            "              gamma=None, grow_policy=None, importance_type=None,\n",
            "              interaction_constraints=None, learning_rate=None, max_bin=None,\n",
            "              max_cat_threshold=None, max_cat_to_onehot=None,\n",
            "              max_delta_step=None, max_depth=None, max_leaves=None,\n",
            "              min_child_weight=None, missing=nan, monotone_constraints=None,\n",
            "              multi_strategy=None, n_estimators=None, n_jobs=None,\n",
            "              num_parallel_tree=None, random_state=None, ...) *********\n",
            "              precision    recall  f1-score   support\n",
            "\n",
            "           0       0.81      0.79      0.80      3443\n",
            "           1       0.86      0.87      0.86      4928\n",
            "\n",
            "    accuracy                           0.84      8371\n",
            "   macro avg       0.83      0.83      0.83      8371\n",
            "weighted avg       0.84      0.84      0.84      8371\n",
            "\n",
            "<sklearn.metrics._plot.confusion_matrix.ConfusionMatrixDisplay object at 0x00000263094B7610>\n"
          ]
        },
        {
          "data": {
            "image/png": "[encoded data removed]",
            "text/plain": [
              "<Figure size 640x480 with 2 Axes>"
            ]
          },
          "metadata": {},
          "output_type": "display_data"
        },
        {
          "data": {
            "image/png": "[encoded data removed]",
            "text/plain": [
              "<Figure size 640x480 with 2 Axes>"
            ]
          },
          "metadata": {},
          "output_type": "display_data"
        },
        {
          "data": {
            "image/png": "[encoded data removed]",
            "text/plain": [
              "<Figure size 640x480 with 2 Axes>"
            ]
          },
          "metadata": {},
          "output_type": "display_data"
        },
        {
          "data": {
            "image/png": "[encoded data removed]",
            "text/plain": [
              "<Figure size 640x480 with 2 Axes>"
            ]
          },
          "metadata": {},
          "output_type": "display_data"
        },
        {
          "data": {
            "image/png": "[encoded data removed]",
            "text/plain": [
              "<Figure size 640x480 with 2 Axes>"
            ]
          },
          "metadata": {},
          "output_type": "display_data"
        },
        {
          "data": {
            "image/png": "[encoded data removed]",
            "text/plain": [
              "<Figure size 640x480 with 2 Axes>"
            ]
          },
          "metadata": {},
          "output_type": "display_data"
        },
        {
          "data": {
            "image/png": "[encoded data removed]",
            "text/plain": [
              "<Figure size 640x480 with 2 Axes>"
            ]
          },
          "metadata": {},
          "output_type": "display_data"
        },
        {
          "data": {
            "image/png": "[encoded data removed]",
            "text/plain": [
              "<Figure size 640x480 with 2 Axes>"
            ]
          },
          "metadata": {},
          "output_type": "display_data"
        }
      ],
      "source": [
        "knn=KNeighborsClassifier(n_neighbors=9)\n",
        "sv=SVC(kernel='poly')\n",
        "nb=MultinomialNB()\n",
        "rf=RandomForestClassifier()\n",
        "dt=DecisionTreeClassifier()\n",
        "ab=AdaBoostClassifier()\n",
        "gb=GradientBoostingClassifier()\n",
        "xgb=XGBClassifier()\n",
        "models=[knn,sv,rf,nb,dt,ab,gb,xgb]\n",
        "for model in models:\n",
        "  print(\"********\",model,\"*********\")\n",
        "  model.fit(X_train,y_train)\n",
        "  y_pred=model.predict(X_test)\n",
        "  print(classification_report(y_test,y_pred))\n",
        "  print(ConfusionMatrixDisplay.from_predictions(y_test,y_pred))"
      ]
    },
    {
      "cell_type": "markdown",
      "metadata": {
        "id": "IS9UBaERzrfi"
      },
      "source": [
        "**Oversampling**"
      ]
    },
    {
      "cell_type": "code",
      "execution_count": 69,
      "metadata": {
        "colab": {
          "background_save": true
        },
        "id": "qMeUFC9uzyzw"
      },
      "outputs": [],
      "source": [
        "os=SMOTE(random_state=1)\n",
        "X_os,y_os=os.fit_resample(X_scaled,y)"
      ]
    },
    {
      "cell_type": "code",
      "execution_count": 70,
      "metadata": {
        "colab": {
          "background_save": true
        },
        "id": "1_bgla5uz63_",
        "outputId": "41da1143-f0b5-4778-91c1-f231d6db4004"
      },
      "outputs": [
        {
          "data": {
            "text/plain": [
              "Depression\n",
              "1    16336\n",
              "0    16336\n",
              "Name: count, dtype: int64"
            ]
          },
          "execution_count": 70,
          "metadata": {},
          "output_type": "execute_result"
        }
      ],
      "source": [
        "y_os.value_counts()"
      ]
    },
    {
      "cell_type": "code",
      "execution_count": 71,
      "metadata": {
        "colab": {
          "background_save": true
        },
        "id": "vu_v6h561C8O"
      },
      "outputs": [],
      "source": [
        "X_os_train,X_os_test,y_os_train,y_os_test=train_test_split(X_os,y_os,test_size=0.3,random_state=1)"
      ]
    },
    {
      "cell_type": "code",
      "execution_count": 72,
      "metadata": {},
      "outputs": [
        {
          "data": {
            "text/plain": [
              "array([[1.        , 0.14634146, 0.2745098 , ..., 0.66666667, 1.        ,\n",
              "        1.        ],\n",
              "       [1.        , 0.17402741, 0.94161805, ..., 0.74624656, 0.00563015,\n",
              "        1.        ],\n",
              "       [0.        , 0.2195122 , 0.74509804, ..., 0.75      , 0.25      ,\n",
              "        0.        ],\n",
              "       ...,\n",
              "       [0.        , 0.3902439 , 0.29411765, ..., 0.83333333, 0.75      ,\n",
              "        0.        ],\n",
              "       [0.        , 0.26829268, 0.76470588, ..., 1.        , 0.        ,\n",
              "        0.        ],\n",
              "       [1.        , 0.24091879, 0.88235294, ..., 0.63532129, 0.96865462,\n",
              "        0.        ]])"
            ]
          },
          "execution_count": 72,
          "metadata": {},
          "output_type": "execute_result"
        }
      ],
      "source": [
        "X_os_train"
      ]
    },
    {
      "cell_type": "code",
      "execution_count": 73,
      "metadata": {
        "colab": {
          "background_save": true
        },
        "id": "mMJqSVSp0Fs4",
        "outputId": "ae9df054-218e-462f-eb9f-475dbe5ccd7b"
      },
      "outputs": [
        {
          "name": "stdout",
          "output_type": "stream",
          "text": [
            "******** KNeighborsClassifier() *********\n",
            "              precision    recall  f1-score   support\n",
            "\n",
            "           0       0.82      0.84      0.83      4855\n",
            "           1       0.84      0.82      0.83      4947\n",
            "\n",
            "    accuracy                           0.83      9802\n",
            "   macro avg       0.83      0.83      0.83      9802\n",
            "weighted avg       0.83      0.83      0.83      9802\n",
            "\n",
            "******** SVC(kernel='poly') *********\n",
            "              precision    recall  f1-score   support\n",
            "\n",
            "           0       0.85      0.84      0.84      4855\n",
            "           1       0.84      0.86      0.85      4947\n",
            "\n",
            "    accuracy                           0.85      9802\n",
            "   macro avg       0.85      0.85      0.85      9802\n",
            "weighted avg       0.85      0.85      0.85      9802\n",
            "\n",
            "******** RandomForestClassifier(random_state=1) *********\n",
            "              precision    recall  f1-score   support\n",
            "\n",
            "           0       0.86      0.87      0.87      4855\n",
            "           1       0.87      0.87      0.87      4947\n",
            "\n",
            "    accuracy                           0.87      9802\n",
            "   macro avg       0.87      0.87      0.87      9802\n",
            "weighted avg       0.87      0.87      0.87      9802\n",
            "\n",
            "******** MultinomialNB() *********\n",
            "              precision    recall  f1-score   support\n",
            "\n",
            "           0       0.83      0.72      0.77      4855\n",
            "           1       0.76      0.86      0.80      4947\n",
            "\n",
            "    accuracy                           0.79      9802\n",
            "   macro avg       0.79      0.79      0.79      9802\n",
            "weighted avg       0.79      0.79      0.79      9802\n",
            "\n",
            "******** DecisionTreeClassifier(random_state=1) *********\n",
            "              precision    recall  f1-score   support\n",
            "\n",
            "           0       0.79      0.79      0.79      4855\n",
            "           1       0.79      0.79      0.79      4947\n",
            "\n",
            "    accuracy                           0.79      9802\n",
            "   macro avg       0.79      0.79      0.79      9802\n",
            "weighted avg       0.79      0.79      0.79      9802\n",
            "\n",
            "******** AdaBoostClassifier() *********\n",
            "              precision    recall  f1-score   support\n",
            "\n",
            "           0       0.87      0.85      0.86      4855\n",
            "           1       0.85      0.87      0.86      4947\n",
            "\n",
            "    accuracy                           0.86      9802\n",
            "   macro avg       0.86      0.86      0.86      9802\n",
            "weighted avg       0.86      0.86      0.86      9802\n",
            "\n",
            "******** GradientBoostingClassifier() *********\n",
            "              precision    recall  f1-score   support\n",
            "\n",
            "           0       0.87      0.86      0.87      4855\n",
            "           1       0.86      0.88      0.87      4947\n",
            "\n",
            "    accuracy                           0.87      9802\n",
            "   macro avg       0.87      0.87      0.87      9802\n",
            "weighted avg       0.87      0.87      0.87      9802\n",
            "\n",
            "******** XGBClassifier(base_score=None, booster=None, callbacks=None,\n",
            "              colsample_bylevel=None, colsample_bynode=None,\n",
            "              colsample_bytree=None, device=None, early_stopping_rounds=None,\n",
            "              enable_categorical=False, eval_metric=None, feature_types=None,\n",
            "              gamma=None, grow_policy=None, importance_type=None,\n",
            "              interaction_constraints=None, learning_rate=None, max_bin=None,\n",
            "              max_cat_threshold=None, max_cat_to_onehot=None,\n",
            "              max_delta_step=None, max_depth=None, max_leaves=None,\n",
            "              min_child_weight=None, missing=nan, monotone_constraints=None,\n",
            "              multi_strategy=None, n_estimators=None, n_jobs=None,\n",
            "              num_parallel_tree=None, random_state=None, ...) *********\n",
            "              precision    recall  f1-score   support\n",
            "\n",
            "           0       0.87      0.86      0.86      4855\n",
            "           1       0.86      0.87      0.87      4947\n",
            "\n",
            "    accuracy                           0.87      9802\n",
            "   macro avg       0.87      0.87      0.87      9802\n",
            "weighted avg       0.87      0.87      0.87      9802\n",
            "\n"
          ]
        }
      ],
      "source": [
        "knn_os=KNeighborsClassifier(n_neighbors=5)\n",
        "sv_os=SVC(kernel='poly')\n",
        "nb_os=MultinomialNB()\n",
        "rf_os=RandomForestClassifier(random_state=1)\n",
        "dt_os=DecisionTreeClassifier(random_state=1)\n",
        "ab_os=AdaBoostClassifier()\n",
        "gb_os=GradientBoostingClassifier()\n",
        "xgb_os=XGBClassifier()\n",
        "models=[knn_os,sv_os,rf_os,nb_os,dt_os,ab_os,gb_os,xgb_os]\n",
        "for model in models:\n",
        "  print(\"********\",model,\"*********\")\n",
        "  model.fit(X_os_train,y_os_train)\n",
        "  y_pred_os=model.predict(X_os_test)\n",
        "  print(classification_report(y_os_test,y_pred_os))\n"
      ]
    },
    {
      "cell_type": "markdown",
      "metadata": {
        "id": "tj36nrppDix5"
      },
      "source": [
        "**Hyperparameter Tuning**"
      ]
    },
    {
      "cell_type": "markdown",
      "metadata": {
        "id": "2W7FCyLFRQJo"
      },
      "source": [
        "#Gradient Boosting"
      ]
    },
    {
      "cell_type": "code",
      "execution_count": 74,
      "metadata": {
        "colab": {
          "background_save": true
        },
        "id": "sc_065yGD48H"
      },
      "outputs": [],
      "source": [
        "params={'n_estimators':[100,200,300],'loss':['log_loss','exponential'],'learning_rate':[0.0,0.1,0.2]}"
      ]
    },
    {
      "cell_type": "code",
      "execution_count": 75,
      "metadata": {
        "colab": {
          "background_save": true
        },
        "id": "bVuRadWGJLvB",
        "outputId": "dc939172-417f-42cd-c102-ae04c96d38ac"
      },
      "outputs": [],
      "source": [
        "# clf=GridSearchCV(gb_os,params,cv=10,scoring='accuracy')\n",
        "# clf.fit(X_train,y_train)"
      ]
    },
    {
      "cell_type": "code",
      "execution_count": 76,
      "metadata": {
        "colab": {
          "background_save": true
        },
        "id": "6gb21ENeQGjI",
        "outputId": "932ab538-2459-4910-b061-bfa4d9366050"
      },
      "outputs": [
        {
          "ename": "AttributeError",
          "evalue": "'GridSearchCV' object has no attribute 'best_params_'",
          "output_type": "error",
          "traceback": [
            "\u001b[1;31m---------------------------------------------------------------------------\u001b[0m",
            "\u001b[1;31mAttributeError\u001b[0m                            Traceback (most recent call last)",
            "Cell \u001b[1;32mIn[76], line 1\u001b[0m\n\u001b[1;32m----> 1\u001b[0m \u001b[43mclf\u001b[49m\u001b[38;5;241;43m.\u001b[39;49m\u001b[43mbest_params_\u001b[49m\n",
            "\u001b[1;31mAttributeError\u001b[0m: 'GridSearchCV' object has no attribute 'best_params_'"
          ]
        }
      ],
      "source": [
        "clf.best_params_"
      ]
    },
    {
      "cell_type": "code",
      "execution_count": null,
      "metadata": {
        "colab": {
          "background_save": true
        },
        "id": "pJcZmlJSQTPc",
        "outputId": "3c754c43-8e21-4811-edcb-b7a96e1c8962"
      },
      "outputs": [
        {
          "data": {
            "text/plain": [
              "array([1, 1, 1, ..., 1, 1, 0])"
            ]
          },
          "execution_count": 250,
          "metadata": {},
          "output_type": "execute_result"
        },
        {
          "ename": "",
          "evalue": "",
          "output_type": "error",
          "traceback": [
            "\u001b[1;31mnotebook controller is DISPOSED. \n",
            "\u001b[1;31mView Jupyter <a href='command:jupyter.viewOutput'>log</a> for further details."
          ]
        },
        {
          "ename": "",
          "evalue": "",
          "output_type": "error",
          "traceback": [
            "\u001b[1;31mnotebook controller is DISPOSED. \n",
            "\u001b[1;31mView Jupyter <a href='command:jupyter.viewOutput'>log</a> for further details."
          ]
        }
      ],
      "source": [
        "y_pred2=clf.predict(X_test)\n",
        "y_pred2"
      ]
    },
    {
      "cell_type": "code",
      "execution_count": null,
      "metadata": {
        "colab": {
          "background_save": true
        },
        "id": "vw18vK1OQa7m",
        "outputId": "1fefd0be-6525-4942-9933-ddaa10e44da0"
      },
      "outputs": [
        {
          "name": "stdout",
          "output_type": "stream",
          "text": [
            "              precision    recall  f1-score   support\n",
            "\n",
            "           0       0.83      0.80      0.81      3443\n",
            "           1       0.86      0.89      0.87      4928\n",
            "\n",
            "    accuracy                           0.85      8371\n",
            "   macro avg       0.85      0.84      0.84      8371\n",
            "weighted avg       0.85      0.85      0.85      8371\n",
            "\n"
          ]
        },
        {
          "ename": "",
          "evalue": "",
          "output_type": "error",
          "traceback": [
            "\u001b[1;31mnotebook controller is DISPOSED. \n",
            "\u001b[1;31mView Jupyter <a href='command:jupyter.viewOutput'>log</a> for further details."
          ]
        },
        {
          "ename": "",
          "evalue": "",
          "output_type": "error",
          "traceback": [
            "\u001b[1;31mnotebook controller is DISPOSED. \n",
            "\u001b[1;31mView Jupyter <a href='command:jupyter.viewOutput'>log</a> for further details."
          ]
        }
      ],
      "source": [
        "print(classification_report(y_test,y_pred2))"
      ]
    },
    {
      "cell_type": "code",
      "execution_count": 28,
      "metadata": {},
      "outputs": [
        {
          "data": {
            "text/plain": [
              "(22870, 16)"
            ]
          },
          "execution_count": 28,
          "metadata": {},
          "output_type": "execute_result"
        }
      ],
      "source": [
        "X_os_train.shape"
      ]
    },
    {
      "cell_type": "code",
      "execution_count": 25,
      "metadata": {
        "colab": {
          "background_save": true
        },
        "id": "EKx-PzkjssMm",
        "outputId": "974d7ef1-ee93-4ae9-e929-a1f75f1a5e90"
      },
      "outputs": [
        {
          "name": "stdout",
          "output_type": "stream",
          "text": [
            "              precision    recall  f1-score   support\n",
            "\n",
            "           0       0.87      0.86      0.87      4855\n",
            "           1       0.86      0.88      0.87      4947\n",
            "\n",
            "    accuracy                           0.87      9802\n",
            "   macro avg       0.87      0.87      0.87      9802\n",
            "weighted avg       0.87      0.87      0.87      9802\n",
            "\n"
          ]
        }
      ],
      "source": [
        "gb1=GradientBoostingClassifier()\n",
        "gb1.fit(X_os_train,y_os_train)\n",
        "y_pred_os=gb1.predict(X_os_test)\n",
        "print(classification_report(y_os_test,y_pred_os))\n"
      ]
    },
    {
      "cell_type": "code",
      "execution_count": 26,
      "metadata": {
        "colab": {
          "background_save": true
        },
        "id": "QgbcgeZkruA4"
      },
      "outputs": [],
      "source": [
        "import pickle\n",
        "pickle.dump(gb1,open('gb1model.sav','wb'))"
      ]
    },
    {
      "cell_type": "code",
      "execution_count": 27,
      "metadata": {
        "colab": {
          "background_save": true
        },
        "id": "iX3qmLWFupqE"
      },
      "outputs": [],
      "source": [
        "pickle.dump(scaler,open('scaler.sav','wb'))"
      ]
    }
  ],
  "metadata": {
    "colab": {
      "provenance": []
    },
    "kernelspec": {
      "display_name": "Python 3",
      "name": "python3"
    },
    "language_info": {
      "codemirror_mode": {
        "name": "ipython",
        "version": 3
      },
      "file_extension": ".py",
      "mimetype": "text/x-python",
      "name": "python",
      "nbconvert_exporter": "python",
      "pygments_lexer": "ipython3",
      "version": "3.11.3"
    }
  },
  "nbformat": 4,
  "nbformat_minor": 0
}
